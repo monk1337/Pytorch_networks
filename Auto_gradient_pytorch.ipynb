{
 "cells": [
  {
   "cell_type": "code",
   "execution_count": 34,
   "metadata": {},
   "outputs": [],
   "source": [
    "import torch\n",
    "from torch.autograd import Variable"
   ]
  },
  {
   "cell_type": "code",
   "execution_count": 31,
   "metadata": {},
   "outputs": [],
   "source": [
    "x_data = [1.0, 2.0, 3.0]\n",
    "y_data = [2.0, 4.0, 6.0]\n",
    "\n",
    "w = Variable(torch.Tensor([1.0]),requires_grad=True)"
   ]
  },
  {
   "cell_type": "code",
   "execution_count": 32,
   "metadata": {},
   "outputs": [],
   "source": [
    "def forward(x):\n",
    "    \n",
    "    return x * w\n",
    "\n",
    "def loss(x,y):\n",
    "    \n",
    "    y_pred = forward(x)\n",
    "    \n",
    "    return (y_pred-y) * (y_pred - y)\n"
   ]
  },
  {
   "cell_type": "code",
   "execution_count": 33,
   "metadata": {},
   "outputs": [
    {
     "name": "stdout",
     "output_type": "stream",
     "text": [
      "tensor(1.)\n",
      "tensor(3.8416)\n",
      "tensor(7.3159)\n",
      "tensor(0.5466)\n",
      "tensor(2.0997)\n",
      "tensor(3.9988)\n",
      "tensor(0.2988)\n",
      "tensor(1.1477)\n",
      "tensor(2.1857)\n",
      "tensor(0.1633)\n",
      "tensor(0.6273)\n",
      "tensor(1.1946)\n",
      "tensor(0.0893)\n",
      "tensor(0.3429)\n",
      "tensor(0.6530)\n",
      "tensor(0.0488)\n",
      "tensor(0.1874)\n",
      "tensor(0.3569)\n",
      "tensor(0.0267)\n",
      "tensor(0.1024)\n",
      "tensor(0.1951)\n",
      "tensor(0.0146)\n",
      "tensor(0.0560)\n",
      "tensor(0.1066)\n",
      "tensor(0.0080)\n",
      "tensor(0.0306)\n",
      "tensor(0.0583)\n",
      "tensor(0.0044)\n",
      "tensor(0.0167)\n",
      "tensor(0.0319)\n"
     ]
    }
   ],
   "source": [
    "loss_list = []\n",
    "weight_list = []\n",
    "\n",
    "for epoch in range(10):\n",
    "    \n",
    "    for x,y in zip(x_data,y_data):\n",
    "        \n",
    "        lossd = loss(x,y)\n",
    "        print(lossd.data[0])\n",
    "        lossd.backward()\n",
    "        \n",
    "        w.data = w.data - 0.01 * w.grad.data\n",
    "        w.grad.data.zero_()"
   ]
  },
  {
   "cell_type": "code",
   "execution_count": null,
   "metadata": {},
   "outputs": [],
   "source": []
  }
 ],
 "metadata": {
  "kernelspec": {
   "display_name": "Python 3",
   "language": "python",
   "name": "python3"
  },
  "language_info": {
   "codemirror_mode": {
    "name": "ipython",
    "version": 3
   },
   "file_extension": ".py",
   "mimetype": "text/x-python",
   "name": "python",
   "nbconvert_exporter": "python",
   "pygments_lexer": "ipython3",
   "version": "3.6.8"
  }
 },
 "nbformat": 4,
 "nbformat_minor": 2
}
